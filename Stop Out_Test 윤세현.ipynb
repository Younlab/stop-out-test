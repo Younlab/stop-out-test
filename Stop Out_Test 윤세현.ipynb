{
 "cells": [
  {
   "cell_type": "code",
   "execution_count": 4,
   "metadata": {},
   "outputs": [],
   "source": [
    "# 1\n",
    "girlsday_members = ['민아', '혜리', '유라', '소진']"
   ]
  },
  {
   "cell_type": "code",
   "execution_count": 5,
   "metadata": {},
   "outputs": [
    {
     "name": "stdout",
     "output_type": "stream",
     "text": [
      "- 민아\n",
      "- 혜리\n",
      "- 유라\n",
      "- 소진\n"
     ]
    }
   ],
   "source": [
    "def girlsday():\n",
    "    for m in girlsday_members:\n",
    "        print('-',m)\n",
    "\n",
    "girlsday_info = girlsday()\n",
    "girlsday_info"
   ]
  },
  {
   "cell_type": "code",
   "execution_count": 6,
   "metadata": {},
   "outputs": [
    {
     "name": "stdout",
     "output_type": "stream",
     "text": [
      "[0] RED : apple\n",
      "[1] YELLOW : banana\n",
      "[2] GREEN : melon\n"
     ]
    }
   ],
   "source": [
    "# 2\n",
    "fruit_dict = {\n",
    "    'red': 'apple',\n",
    "    'yellow': 'banana',\n",
    "    'green': 'melon',\n",
    "}\n",
    "def fruit():\n",
    "    n = -1\n",
    "    for color, item in fruit_dict.items():\n",
    "        \n",
    "        n +=1\n",
    "        print(f'[{n}]', color.upper(),':', item)\n",
    "fruit_info = fruit()\n",
    "fruit_info"
   ]
  },
  {
   "cell_type": "code",
   "execution_count": 16,
   "metadata": {},
   "outputs": [],
   "source": [
    "# 3\n",
    "# list 에서 copy() 가 하는 일,\n",
    "# a 리스트가 있을 때 a의 리스트를 b라는 새로운 리스트에 복사할때\n",
    "a = ['do', 'is', 'not', 'for', 'hell']\n",
    "b = a"
   ]
  },
  {
   "cell_type": "code",
   "execution_count": 17,
   "metadata": {},
   "outputs": [
    {
     "data": {
      "text/plain": [
       "['do', 'is', 'not', 'for', 'hell']"
      ]
     },
     "execution_count": 17,
     "metadata": {},
     "output_type": "execute_result"
    }
   ],
   "source": [
    "a"
   ]
  },
  {
   "cell_type": "code",
   "execution_count": 18,
   "metadata": {},
   "outputs": [
    {
     "data": {
      "text/plain": [
       "['do', 'is', 'not', 'for', 'hell']"
      ]
     },
     "execution_count": 18,
     "metadata": {},
     "output_type": "execute_result"
    }
   ],
   "source": [
    "b"
   ]
  },
  {
   "cell_type": "code",
   "execution_count": 21,
   "metadata": {},
   "outputs": [
    {
     "data": {
      "text/plain": [
       "True"
      ]
     },
     "execution_count": 21,
     "metadata": {},
     "output_type": "execute_result"
    }
   ],
   "source": [
    "a is b"
   ]
  },
  {
   "cell_type": "code",
   "execution_count": 25,
   "metadata": {},
   "outputs": [
    {
     "name": "stdout",
     "output_type": "stream",
     "text": [
      "4473670920\n",
      "4473670920\n"
     ]
    }
   ],
   "source": [
    "# 출력했을때 두 리스트가 가리키는 매모리 주소가 같다. 이때 a의 list에서\n",
    "# 하나를 지우면 b의 리스트에서 무슨일이 일어날까?\n",
    "print(id(a))\n",
    "print(id(b))"
   ]
  },
  {
   "cell_type": "code",
   "execution_count": 27,
   "metadata": {},
   "outputs": [],
   "source": [
    "a.remove('do')"
   ]
  },
  {
   "cell_type": "code",
   "execution_count": 29,
   "metadata": {},
   "outputs": [
    {
     "data": {
      "text/plain": [
       "['is', 'not', 'for', 'hell']"
      ]
     },
     "execution_count": 29,
     "metadata": {},
     "output_type": "execute_result"
    }
   ],
   "source": [
    "a"
   ]
  },
  {
   "cell_type": "code",
   "execution_count": 31,
   "metadata": {},
   "outputs": [
    {
     "data": {
      "text/plain": [
       "['is', 'not', 'for', 'hell']"
      ]
     },
     "execution_count": 31,
     "metadata": {},
     "output_type": "execute_result"
    }
   ],
   "source": [
    "# b의 리스트에 있는 내용도 지워진다.\n",
    "# 이를 Shallow Copy(얕은 복사) 라고 하는데\n",
    "# 이러한 현상을 피하기위해 copy() 함수를 사용한다.\n",
    "b"
   ]
  },
  {
   "cell_type": "code",
   "execution_count": 33,
   "metadata": {},
   "outputs": [],
   "source": [
    "c = a.copy()"
   ]
  },
  {
   "cell_type": "code",
   "execution_count": 34,
   "metadata": {},
   "outputs": [
    {
     "data": {
      "text/plain": [
       "['is', 'not', 'for', 'hell']"
      ]
     },
     "execution_count": 34,
     "metadata": {},
     "output_type": "execute_result"
    }
   ],
   "source": [
    "c"
   ]
  },
  {
   "cell_type": "code",
   "execution_count": 36,
   "metadata": {},
   "outputs": [
    {
     "data": {
      "text/plain": [
       "False"
      ]
     },
     "execution_count": 36,
     "metadata": {},
     "output_type": "execute_result"
    }
   ],
   "source": [
    "c is a"
   ]
  },
  {
   "cell_type": "code",
   "execution_count": 37,
   "metadata": {},
   "outputs": [],
   "source": [
    "# 내용은 같아도 둘이 가르키는 메모리 주소가 다르다.\n",
    "# 이렇게 사용할때 a의 값이 수정되도 c의 값이 영향을 미치는 일은 없다."
   ]
  },
  {
   "cell_type": "code",
   "execution_count": 48,
   "metadata": {},
   "outputs": [
    {
     "name": "stdout",
     "output_type": "stream",
     "text": [
      "[3, 7, 11, 15, 19, 23, 27]\n"
     ]
    }
   ],
   "source": [
    "# 4\n",
    "num = [i for i in range(3,31,4)]\n",
    "print(num)"
   ]
  },
  {
   "cell_type": "code",
   "execution_count": 49,
   "metadata": {},
   "outputs": [],
   "source": [
    "# 5\n",
    "# dict형 객체인 `obj`가 있다고 할 때, `obj['key']`와 `obj.get('key')`의 차이를 서술하시오.\n",
    "# `obj['key']` 를 사용하여 호출했을때 해당하는 키가 없을 경우에 키 에러가 난다.\n",
    "# `obj.get('key')` 를 사용하여 호출했을때 해당하는 키가 없을 경우 에러를 호출하지 않는다."
   ]
  },
  {
   "cell_type": "code",
   "execution_count": 10,
   "metadata": {},
   "outputs": [
    {
     "name": "stdout",
     "output_type": "stream",
     "text": [
      "피카츄 전기 타입\n",
      "파이리 불 타입\n",
      "꼬부기 물 타입\n",
      "이상해씨 풀 타입\n"
     ]
    }
   ],
   "source": [
    "# 6\n",
    "pokemon_info = [\n",
    "    ('피카츄', '전기 타입'),\n",
    "    ('파이리', '불 타입'),\n",
    "    ('꼬부기', '물 타입'),\n",
    "    ('이상해씨', '풀 타입'),\n",
    "]\n",
    "\n",
    "for i in pokemon_info:\n",
    "    print(i[0], i[1])\n",
    "# 튜플 언패킹은 하나의 리스트 또는 튜플에 여러게의 리스트나 튜플이 들어가 있을 때 그것을 풀어주는 것\n",
    "\n"
   ]
  },
  {
   "cell_type": "code",
   "execution_count": 24,
   "metadata": {},
   "outputs": [
    {
     "data": {
      "text/plain": [
       "6"
      ]
     },
     "execution_count": 24,
     "metadata": {},
     "output_type": "execute_result"
    }
   ],
   "source": [
    "# 7\n",
    "# 위치인자는 들어오는 순서대로 미리 정의한 인자에 할당된다. *args 로 사용하며 *만 앞에 붙으면 뒤의 args는 다른걸로 대체해도 상관없다. 관용적으로 사용된다.\n",
    "# 키워드 인자는 정해놓은 키워드에 알아서 들어간다. **kwargs 로 사용된다.\n",
    "# 키워드 인자는 키워드로 미리 정해놓은 인자이며 해당 키워드만 앞서 선언해주면 순서는 상관 없다.\n",
    "# 키워드 인자\n",
    "def sells(a=0,b=0,c=0):\n",
    "   return a + b + c\n",
    "sells(a=1, b=2, c=3)"
   ]
  },
  {
   "cell_type": "code",
   "execution_count": 9,
   "metadata": {},
   "outputs": [],
   "source": [
    "# 8\n",
    "# - 클래스와 인스턴스의 차이점 [2점]\n",
    "# 클래스는 함수를 묶어놓은 가방, 인스턴스는 가방의 내용물, 내가집어놓은 서류 등\n",
    "# - 클래스의 생성자 함수 이름 [1점]\n",
    "# method\n",
    "# - 클래스의 생성자 함수가 호출되는 시점은? [2점]\n",
    "# 인스턴스를 클래스에 정의할때, 클래스에 있는 method 를 사용할때\n",
    "# - 인스턴스 메서드의 `self`매개변수의 의미 [4점]\n",
    "# 자기자신, 즉 인스턴스가 post_list 라면 self 는 post_list"
   ]
  },
  {
   "cell_type": "code",
   "execution_count": 25,
   "metadata": {},
   "outputs": [],
   "source": [
    "# 9\n",
    "# `property`를 정의하는 방법에 대해 서술하시오. [5점]\n",
    "# property는 클래스 내부에 사용되며 @property로 선언한다.\n",
    "# 사용법은\n",
    "class Post:\n",
    "    def __init__(self):\n",
    "        pass\n",
    "    \n",
    "    @property\n",
    "    def info(self):\n",
    "        return '이렇게'\n",
    "# property는 읽기전용"
   ]
  },
  {
   "cell_type": "code",
   "execution_count": 26,
   "metadata": {},
   "outputs": [],
   "source": [
    "# 10\n",
    "# 아래와 같은 `User`클래스가 있다. 이 클래스를 상속받은 `Student`클래스를 정의하고, 초기화 메서드에서 `name`과 함께`age`라는 매개변수를 추가로 사용해 인스턴스의 `age`속성을 추가로 정의하도록 한다. [10점]\n",
    "\n",
    "# - (기본구현) User클래스를 상속: 1\n",
    "# - 초기화 메서드 재정의: +3\n",
    "# - 초기화 메서드에서 `super`사용: +6\n",
    "\n",
    "class User:\n",
    "    def __init__(self, name):\n",
    "        self.name = name\n",
    "\n",
    "class Student(User):\n",
    "    def __init__(self, age):\n",
    "        super(). __init__(name)\n",
    "        self.age = age\n"
   ]
  },
  {
   "cell_type": "code",
   "execution_count": 42,
   "metadata": {},
   "outputs": [
    {
     "name": "stdout",
     "output_type": "stream",
     "text": [
      "top[#2] 격전을 준비하세요! (수정)\n",
      "top격전 참여시 불건전 행위에 대한 주의사항 안내(수정)\n",
      "대리 게임 등 적발 현황 263차 안내\n",
      "부정행위 프로그램 제재 현황 안내\n",
      "6월 2차 소환사 문화재지킴이 모집 안내\n",
      "일부 클라이언트 오류 현상에 대한 안내 (정상화)\n",
      "6월 6일(수) 서버 점검 안내 (완료)\n",
      "PBE 인사이드 20화(8.12 패치 편) 방송 안내\n",
      "다시 돌아온 격전! 얼불져스 6/5(화) 방송 일정 안내\n",
      "1일 격전 테스트에 참여해 주세요\n",
      "대리 게임 등 적발 현황 262차 안내\n",
      "부정행위 프로그램 제재 현황 안내\n"
     ]
    }
   ],
   "source": [
    "# 11 `url`주소로부터 아래 결과를 출력한다. [10점]\n",
    "# url = 'http://www.leagueoflegends.co.kr/?m=news&cate=notice'\n",
    "import requests\n",
    "import os\n",
    "from bs4 import BeautifulSoup\n",
    "from urllib import parse\n",
    "\n",
    "def html():\n",
    "    url = 'http://www.leagueoflegends.co.kr/?m=news&cate=notice'\n",
    "    file_path = 'data/notics.html'\n",
    "    if os.path.exists(file_path):\n",
    "        html = open(file_path, 'rt').read()\n",
    "    else:\n",
    "        response = requests.get(url)\n",
    "        html = response.text\n",
    "        open(file_path, 'wt').write(html)\n",
    "    soup = BeautifulSoup(html, 'lxml')\n",
    "    title_wrap = soup.select('td.tleft > a')\n",
    "    for i in title_wrap:\n",
    "        print(i.get_text())\n",
    "html()"
   ]
  },
  {
   "cell_type": "code",
   "execution_count": 43,
   "metadata": {},
   "outputs": [],
   "source": [
    "# 12 `url`주소에 있는 공지사항에 해당하는 `Notice`클래스를 만들고,\n",
    "# 크롤링시 공지사항 하나마다 `Notice`클래스 인스턴스를 만들어 `notice_list`리스트에 추가한다. [10점]\n",
    "\n",
    "# class \n"
   ]
  },
  {
   "cell_type": "code",
   "execution_count": 46,
   "metadata": {},
   "outputs": [],
   "source": [
    "# 13 runserver가 localhost:8000에서 입력을 받는 상태로 동작 중일 때, 브라우저에서 `http://localhost:8000/abc/`URL을 입력하면\n",
    "# 어떤 절차를 거쳐 사용자에게 다시 화면을 보여주는지 서술하시오. [10점]\n",
    "# 브라우져 -> 리퀘스트 -> 서버 -> 리스폰스 -> 서버 -> 브라우져"
   ]
  },
  {
   "cell_type": "code",
   "execution_count": null,
   "metadata": {},
   "outputs": [],
   "source": []
  }
 ],
 "metadata": {
  "kernelspec": {
   "display_name": "Python 3",
   "language": "python",
   "name": "python3"
  },
  "language_info": {
   "codemirror_mode": {
    "name": "ipython",
    "version": 3
   },
   "file_extension": ".py",
   "mimetype": "text/x-python",
   "name": "python",
   "nbconvert_exporter": "python",
   "pygments_lexer": "ipython3",
   "version": "3.6.5"
  }
 },
 "nbformat": 4,
 "nbformat_minor": 2
}
